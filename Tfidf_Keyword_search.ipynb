{
 "cells": [
  {
   "cell_type": "code",
   "execution_count": 1,
   "id": "84ebefe4-2a13-441f-9cf0-3a5f37557007",
   "metadata": {},
   "outputs": [],
   "source": [
    "import pandas as pd\n",
    "df = pd.read_csv('C:/Users/reddy/eng_movie_subtitles.csv')"
   ]
  },
  {
   "cell_type": "code",
   "execution_count": 2,
   "id": "a19e4f2a-c780-4bf1-a6cf-b2263771d39c",
   "metadata": {},
   "outputs": [],
   "source": [
    "df.rename(columns={'Unnamed: 0': 'index'}, inplace=True)"
   ]
  },
  {
   "cell_type": "code",
   "execution_count": 3,
   "id": "f38f40d1-fdf9-4ae4-b098-93bae0acc89b",
   "metadata": {},
   "outputs": [],
   "source": [
    "from sklearn.feature_extraction.text import TfidfVectorizer\n",
    "\n",
    "#\n",
    "tfidf_vectorizer = TfidfVectorizer()\n",
    "\n",
    "# Fit the vectorizer on the text data to learn the vocabulary\n",
    "tfidf_vectorizer.fit(df['file_content'])\n",
    "\n",
    "# Transform the text data into TF-IDF vectors\n",
    "tfidf_vectors = tfidf_vectorizer.transform(df['file_content'])\n",
    "\n",
    "# tfidf_vectors is now a sparse matrix containing TF-IDF vectors for each document in the 'file_content' column"
   ]
  },
  {
   "cell_type": "code",
   "execution_count": 4,
   "id": "806a0bef-d2da-47d1-ad87-6537eba409c9",
   "metadata": {},
   "outputs": [],
   "source": [
    "import re\n",
    "def clean_text(text):\n",
    "    text = text.strip()\n",
    "    text = re.sub(r'^\\d+\\s', '', text)\n",
    "    text = re.sub(r'\\r\\n', ' ', text)\n",
    "    text = re.sub(r'[^\\x00-\\x7F]+', '', text)\n",
    "    text = re.sub(r'<[^>]+>', '', text)\n",
    "    text = re.sub(r'\\d{2}:\\d{2}:\\d{2},\\d{3} --> \\d{2}:\\d{2}:\\d{2},\\d{3}', '', text)\n",
    "    text = text.lower()\n",
    "    text = re.sub(r'[^\\w\\s]', '', text)\n",
    "    text = ' '.join(text.split())\n",
    "    return text"
   ]
  },
  {
   "cell_type": "code",
   "execution_count": 5,
   "id": "3365a384-85ae-42e6-a1f3-3bbda4388e0f",
   "metadata": {},
   "outputs": [
    {
     "name": "stdin",
     "output_type": "stream",
     "text": [
      "Enter your search query: hello\n"
     ]
    }
   ],
   "source": [
    "search_input = input(\"Enter your search query:\")\n",
    "search_input = clean_text(search_input)\n",
    "search_input_vector = tfidf_vectorizer.transform([search_input])"
   ]
  },
  {
   "cell_type": "code",
   "execution_count": 6,
   "id": "f4a2660c-3295-41b0-b6bf-4ea4fbd1d85d",
   "metadata": {},
   "outputs": [
    {
     "name": "stdout",
     "output_type": "stream",
     "text": [
      "  (0, 1123219)\t0.10211238501497306\n",
      "  (0, 1121425)\t0.14871992112788138\n",
      "  (0, 1119278)\t0.08159227161886741\n",
      "  (0, 1116482)\t0.3600573409178369\n",
      "  (0, 1103537)\t0.08029468602800419\n",
      "  (0, 1088375)\t0.050160104232775345\n",
      "  (0, 1084174)\t0.10927105083930365\n",
      "  (0, 1078588)\t0.05060020192810352\n",
      "  (0, 1057462)\t0.04932277543734414\n",
      "  (0, 1051971)\t0.0495287114148306\n",
      "  (0, 1051546)\t0.050726912438621145\n",
      "  (0, 1046933)\t0.09868501584221806\n",
      "  (0, 1045189)\t0.05700088355819578\n",
      "  (0, 1038836)\t0.05109196880530239\n",
      "  (0, 1034606)\t0.08749999295936384\n",
      "  (0, 1021130)\t0.05589117223712815\n",
      "  (0, 1018050)\t0.05000482847080152\n",
      "  (0, 1006744)\t0.06466982659446324\n",
      "  (0, 1003224)\t0.053794533903316004\n",
      "  (0, 1001318)\t0.21508222477799818\n",
      "  (0, 1001191)\t0.11304394277605014\n",
      "  (0, 993401)\t0.05172144024798152\n",
      "  (0, 980305)\t0.050430079235695646\n",
      "  (0, 978176)\t0.06851310969561501\n",
      "  (0, 976478)\t0.1007770906462071\n",
      "  :\t:\n",
      "  (4, 561040)\t0.0012962369691326089\n",
      "  (4, 561039)\t0.0005453487456868003\n",
      "  (4, 560992)\t0.0012962369691326089\n",
      "  (4, 560935)\t0.0012952846521548905\n",
      "  (4, 560871)\t0.001292359486867051\n",
      "  (4, 560818)\t0.0012915717734058756\n",
      "  (4, 560619)\t0.0012837608442734074\n",
      "  (4, 560579)\t0.0012866369630096127\n",
      "  (4, 560468)\t0.0012859358721880715\n",
      "  (4, 560393)\t0.0012838383643151115\n",
      "  (4, 560201)\t0.0012830636936612529\n",
      "  (4, 560072)\t0.0012800536723397138\n",
      "  (4, 560071)\t0.0005452394400185283\n",
      "  (4, 559887)\t0.0012795921649838993\n",
      "  (4, 559782)\t0.0012784402205289378\n",
      "  (4, 559739)\t0.0012763732551501405\n",
      "  (4, 559653)\t0.0012752285507562136\n",
      "  (4, 559561)\t0.0012725675241044118\n",
      "  (4, 559452)\t0.0012715826686079713\n",
      "  (4, 559301)\t0.0012696186452312368\n",
      "  (4, 558597)\t0.001268037822139294\n",
      "  (4, 556337)\t0.0012660125093322326\n",
      "  (4, 555958)\t0.004574423993739947\n",
      "  (4, 555957)\t0.0005418987249536125\n",
      "  (4, 555956)\t0.0021364897452214615\n"
     ]
    }
   ],
   "source": [
    "from sklearn.metrics.pairwise import cosine_similarity\n",
    "\n",
    "# Calculate cosine similarity between search_input_vector and all TF-IDF vectors\n",
    "cosine_similarities = cosine_similarity(search_input_vector, tfidf_vectors)\n",
    "\n",
    "# Get the indices of the top 5 most similar documents\n",
    "top_indices = cosine_similarities.argsort(axis=1)[0][-5:][::-1]\n",
    "\n",
    "# Get the actual TF-IDF vectors of the top 5 most similar documents\n",
    "top_tfidf_vectors = tfidf_vectors[top_indices]\n",
    "\n",
    "# Optionally, you can also get the cosine similarity scores of the top 5 most similar documents\n",
    "top_cosine_similarities = cosine_similarities[0][top_indices]\n",
    "\n",
    "print(top_tfidf_vectors)"
   ]
  },
  {
   "cell_type": "code",
   "execution_count": null,
   "id": "d7feb902-4314-473f-ae42-9026076aefa2",
   "metadata": {},
   "outputs": [],
   "source": []
  }
 ],
 "metadata": {
  "kernelspec": {
   "display_name": "Python 3 (ipykernel)",
   "language": "python",
   "name": "python3"
  },
  "language_info": {
   "codemirror_mode": {
    "name": "ipython",
    "version": 3
   },
   "file_extension": ".py",
   "mimetype": "text/x-python",
   "name": "python",
   "nbconvert_exporter": "python",
   "pygments_lexer": "ipython3",
   "version": "3.11.7"
  }
 },
 "nbformat": 4,
 "nbformat_minor": 5
}
