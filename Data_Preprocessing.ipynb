{
 "cells": [
  {
   "cell_type": "code",
   "execution_count": 1,
   "id": "ad9f7452-7c93-402f-bbbb-2d35a47519e4",
   "metadata": {},
   "outputs": [],
   "source": [
    "import pandas as pd\n",
    "df = pd.read_csv('C:/Users/reddy/eng_movie_subtitles.csv')"
   ]
  },
  {
   "cell_type": "code",
   "execution_count": 2,
   "id": "d7990ae7-ec23-449a-a267-9637b6ec5991",
   "metadata": {},
   "outputs": [],
   "source": [
    "df= df.drop(columns=['num','content'])"
   ]
  },
  {
   "cell_type": "code",
   "execution_count": 3,
   "id": "319d7e1f-3c44-47fa-92a1-d31c9c309d2b",
   "metadata": {},
   "outputs": [],
   "source": [
    "import re"
   ]
  },
  {
   "cell_type": "code",
   "execution_count": 4,
   "id": "3482c534-519d-4084-b383-fe491cec0539",
   "metadata": {},
   "outputs": [],
   "source": [
    "def clean_text(text):\n",
    "    text = text.strip()\n",
    "    text = re.sub(r'^\\d+\\s', '', text)\n",
    "    text = re.sub(r'\\r\\n', ' ', text)\n",
    "    text = re.sub(r'[^\\x00-\\x7F]+', '', text)\n",
    "    text = re.sub(r'<[^>]+>', '', text)\n",
    "    text = re.sub(r'\\d{2}:\\d{2}:\\d{2},\\d{3} --> \\d{2}:\\d{2}:\\d{2},\\d{3}', '', text)\n",
    "    text = text.lower()\n",
    "    text = re.sub(r'[^\\w\\s]', '', text)\n",
    "    text = ' '.join(text.split())\n",
    "    return text"
   ]
  },
  {
   "cell_type": "code",
   "execution_count": 5,
   "id": "125e8f64-02b0-4c47-ae46-99ad045cdd97",
   "metadata": {},
   "outputs": [],
   "source": [
    "df['file_content'] = df['file_content'].apply(clean_text)"
   ]
  },
  {
   "cell_type": "code",
   "execution_count": 6,
   "id": "b4faf6df-4d15-4790-ac19-29d655af01a0",
   "metadata": {},
   "outputs": [
    {
     "data": {
      "text/html": [
       "<div>\n",
       "<style scoped>\n",
       "    .dataframe tbody tr th:only-of-type {\n",
       "        vertical-align: middle;\n",
       "    }\n",
       "\n",
       "    .dataframe tbody tr th {\n",
       "        vertical-align: top;\n",
       "    }\n",
       "\n",
       "    .dataframe thead th {\n",
       "        text-align: right;\n",
       "    }\n",
       "</style>\n",
       "<table border=\"1\" class=\"dataframe\">\n",
       "  <thead>\n",
       "    <tr style=\"text-align: right;\">\n",
       "      <th></th>\n",
       "      <th>name</th>\n",
       "      <th>file_content</th>\n",
       "    </tr>\n",
       "  </thead>\n",
       "  <tbody>\n",
       "    <tr>\n",
       "      <th>0</th>\n",
       "      <td>the.message.(1976).eng.1cd</td>\n",
       "      <td>watch any video online with opensubtitles free...</td>\n",
       "    </tr>\n",
       "    <tr>\n",
       "      <th>1</th>\n",
       "      <td>here.comes.the.grump.s01.e09.joltin.jack.in.bo...</td>\n",
       "      <td>ah theres princess dawn and terry with the 2 b...</td>\n",
       "    </tr>\n",
       "    <tr>\n",
       "      <th>2</th>\n",
       "      <td>yumis.cells.s02.e13.episode.2.13.(2022).eng.1cd</td>\n",
       "      <td>yumis cells 2 2 episode 36 extremely polite yu...</td>\n",
       "    </tr>\n",
       "    <tr>\n",
       "      <th>3</th>\n",
       "      <td>yumis.cells.s02.e14.episode.2.14.(2022).eng.1cd</td>\n",
       "      <td>watch any video online with opensubtitles free...</td>\n",
       "    </tr>\n",
       "    <tr>\n",
       "      <th>4</th>\n",
       "      <td>broker.(2022).eng.1cd</td>\n",
       "      <td>1 watch any video online with opensubtitles fr...</td>\n",
       "    </tr>\n",
       "  </tbody>\n",
       "</table>\n",
       "</div>"
      ],
      "text/plain": [
       "                                                name  \\\n",
       "0                         the.message.(1976).eng.1cd   \n",
       "1  here.comes.the.grump.s01.e09.joltin.jack.in.bo...   \n",
       "2    yumis.cells.s02.e13.episode.2.13.(2022).eng.1cd   \n",
       "3    yumis.cells.s02.e14.episode.2.14.(2022).eng.1cd   \n",
       "4                              broker.(2022).eng.1cd   \n",
       "\n",
       "                                        file_content  \n",
       "0  watch any video online with opensubtitles free...  \n",
       "1  ah theres princess dawn and terry with the 2 b...  \n",
       "2  yumis cells 2 2 episode 36 extremely polite yu...  \n",
       "3  watch any video online with opensubtitles free...  \n",
       "4  1 watch any video online with opensubtitles fr...  "
      ]
     },
     "execution_count": 6,
     "metadata": {},
     "output_type": "execute_result"
    }
   ],
   "source": [
    "df.head(5)"
   ]
  },
  {
   "cell_type": "code",
   "execution_count": 7,
   "id": "ba41759a-1f1d-4062-8b5d-9e90ed628c72",
   "metadata": {},
   "outputs": [],
   "source": [
    "\n",
    "\n",
    "def clean_movie_name(name):\n",
    "    # Remove newline characters\n",
    "    clean_movie_name = re.sub(r'\\n', '', name)\n",
    "    # Replace periods with spaces\n",
    "    clean_movie_name = clean_movie_name.replace('.', ' ')\n",
    "    # Convert to title case\n",
    "    clean_movie_name = clean_movie_name.title()\n",
    "    # Remove any trailing text after 'Eng' (assumed to be English version indication)\n",
    "    clean_movie_name = re.sub(r'\\s*Eng.*$', '', clean_movie_name)\n",
    "    return clean_movie_name\n"
   ]
  },
  {
   "cell_type": "code",
   "execution_count": 8,
   "id": "6ac84332-6dfc-40e5-aab9-0cfbb26b5c33",
   "metadata": {},
   "outputs": [],
   "source": [
    "df['name'] = df['name'].apply(clean_movie_name)"
   ]
  },
  {
   "cell_type": "code",
   "execution_count": 9,
   "id": "ffd286d8-44a6-41cf-9891-357b03abc0ca",
   "metadata": {},
   "outputs": [
    {
     "data": {
      "text/html": [
       "<div>\n",
       "<style scoped>\n",
       "    .dataframe tbody tr th:only-of-type {\n",
       "        vertical-align: middle;\n",
       "    }\n",
       "\n",
       "    .dataframe tbody tr th {\n",
       "        vertical-align: top;\n",
       "    }\n",
       "\n",
       "    .dataframe thead th {\n",
       "        text-align: right;\n",
       "    }\n",
       "</style>\n",
       "<table border=\"1\" class=\"dataframe\">\n",
       "  <thead>\n",
       "    <tr style=\"text-align: right;\">\n",
       "      <th></th>\n",
       "      <th>name</th>\n",
       "      <th>file_content</th>\n",
       "    </tr>\n",
       "  </thead>\n",
       "  <tbody>\n",
       "    <tr>\n",
       "      <th>0</th>\n",
       "      <td>The Message (1976)</td>\n",
       "      <td>watch any video online with opensubtitles free...</td>\n",
       "    </tr>\n",
       "    <tr>\n",
       "      <th>1</th>\n",
       "      <td>Here Comes The Grump S01 E09 Joltin Jack In Bo...</td>\n",
       "      <td>ah theres princess dawn and terry with the 2 b...</td>\n",
       "    </tr>\n",
       "    <tr>\n",
       "      <th>2</th>\n",
       "      <td>Yumis Cells S02 E13 Episode 2 13 (2022)</td>\n",
       "      <td>yumis cells 2 2 episode 36 extremely polite yu...</td>\n",
       "    </tr>\n",
       "    <tr>\n",
       "      <th>3</th>\n",
       "      <td>Yumis Cells S02 E14 Episode 2 14 (2022)</td>\n",
       "      <td>watch any video online with opensubtitles free...</td>\n",
       "    </tr>\n",
       "    <tr>\n",
       "      <th>4</th>\n",
       "      <td>Broker (2022)</td>\n",
       "      <td>1 watch any video online with opensubtitles fr...</td>\n",
       "    </tr>\n",
       "  </tbody>\n",
       "</table>\n",
       "</div>"
      ],
      "text/plain": [
       "                                                name  \\\n",
       "0                                 The Message (1976)   \n",
       "1  Here Comes The Grump S01 E09 Joltin Jack In Bo...   \n",
       "2            Yumis Cells S02 E13 Episode 2 13 (2022)   \n",
       "3            Yumis Cells S02 E14 Episode 2 14 (2022)   \n",
       "4                                      Broker (2022)   \n",
       "\n",
       "                                        file_content  \n",
       "0  watch any video online with opensubtitles free...  \n",
       "1  ah theres princess dawn and terry with the 2 b...  \n",
       "2  yumis cells 2 2 episode 36 extremely polite yu...  \n",
       "3  watch any video online with opensubtitles free...  \n",
       "4  1 watch any video online with opensubtitles fr...  "
      ]
     },
     "execution_count": 9,
     "metadata": {},
     "output_type": "execute_result"
    }
   ],
   "source": [
    "df.head(5)"
   ]
  },
  {
   "cell_type": "code",
   "execution_count": 10,
   "id": "2ce4044a-7c7e-4379-96d4-b9a14a1101cc",
   "metadata": {},
   "outputs": [],
   "source": [
    "file_path = 'C:/Users/reddy/eng_movie_subtitles.csv'\n",
    "df.to_csv(file_path, index=True)"
   ]
  },
  {
   "cell_type": "code",
   "execution_count": null,
   "id": "b95fb76b-4f97-451a-9f30-7bff47feb019",
   "metadata": {},
   "outputs": [],
   "source": []
  }
 ],
 "metadata": {
  "kernelspec": {
   "display_name": "Python 3 (ipykernel)",
   "language": "python",
   "name": "python3"
  },
  "language_info": {
   "codemirror_mode": {
    "name": "ipython",
    "version": 3
   },
   "file_extension": ".py",
   "mimetype": "text/x-python",
   "name": "python",
   "nbconvert_exporter": "python",
   "pygments_lexer": "ipython3",
   "version": "3.11.7"
  }
 },
 "nbformat": 4,
 "nbformat_minor": 5
}
