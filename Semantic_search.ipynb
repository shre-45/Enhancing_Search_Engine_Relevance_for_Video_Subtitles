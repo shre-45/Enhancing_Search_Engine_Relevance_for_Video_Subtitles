{
 "cells": [
  {
   "cell_type": "code",
   "execution_count": 1,
   "id": "1422fa81-e0d7-4f7c-ae6f-b2f184da8fe5",
   "metadata": {},
   "outputs": [],
   "source": [
    "import pandas as pd\n",
    "df = pd.read_csv('C:/Users/reddy/eng_movie_subtitles.csv')"
   ]
  },
  {
   "cell_type": "code",
   "execution_count": 3,
   "id": "f9a33309-a89e-4435-9ac9-6125a0420f12",
   "metadata": {},
   "outputs": [],
   "source": [
    "df.rename(columns={'Unnamed: 0': 'index'}, inplace=True)"
   ]
  },
  {
   "cell_type": "code",
   "execution_count": 4,
   "id": "4ce83ff8-2bf7-4f9b-81a5-ba6c426af232",
   "metadata": {},
   "outputs": [
    {
     "data": {
      "text/html": [
       "<div>\n",
       "<style scoped>\n",
       "    .dataframe tbody tr th:only-of-type {\n",
       "        vertical-align: middle;\n",
       "    }\n",
       "\n",
       "    .dataframe tbody tr th {\n",
       "        vertical-align: top;\n",
       "    }\n",
       "\n",
       "    .dataframe thead th {\n",
       "        text-align: right;\n",
       "    }\n",
       "</style>\n",
       "<table border=\"1\" class=\"dataframe\">\n",
       "  <thead>\n",
       "    <tr style=\"text-align: right;\">\n",
       "      <th></th>\n",
       "      <th>index</th>\n",
       "      <th>name</th>\n",
       "      <th>file_content</th>\n",
       "    </tr>\n",
       "  </thead>\n",
       "  <tbody>\n",
       "    <tr>\n",
       "      <th>0</th>\n",
       "      <td>0</td>\n",
       "      <td>The Message (1976)</td>\n",
       "      <td>watch any video online with opensubtitles free...</td>\n",
       "    </tr>\n",
       "    <tr>\n",
       "      <th>1</th>\n",
       "      <td>1</td>\n",
       "      <td>Here Comes The Grump S01 E09 Joltin Jack In Bo...</td>\n",
       "      <td>ah theres princess dawn and terry with the 2 b...</td>\n",
       "    </tr>\n",
       "    <tr>\n",
       "      <th>2</th>\n",
       "      <td>2</td>\n",
       "      <td>Yumis Cells S02 E13 Episode 2 13 (2022)</td>\n",
       "      <td>yumis cells 2 2 episode 36 extremely polite yu...</td>\n",
       "    </tr>\n",
       "    <tr>\n",
       "      <th>3</th>\n",
       "      <td>3</td>\n",
       "      <td>Yumis Cells S02 E14 Episode 2 14 (2022)</td>\n",
       "      <td>watch any video online with opensubtitles free...</td>\n",
       "    </tr>\n",
       "    <tr>\n",
       "      <th>4</th>\n",
       "      <td>4</td>\n",
       "      <td>Broker (2022)</td>\n",
       "      <td>1 watch any video online with opensubtitles fr...</td>\n",
       "    </tr>\n",
       "  </tbody>\n",
       "</table>\n",
       "</div>"
      ],
      "text/plain": [
       "   index                                               name  \\\n",
       "0      0                                 The Message (1976)   \n",
       "1      1  Here Comes The Grump S01 E09 Joltin Jack In Bo...   \n",
       "2      2            Yumis Cells S02 E13 Episode 2 13 (2022)   \n",
       "3      3            Yumis Cells S02 E14 Episode 2 14 (2022)   \n",
       "4      4                                      Broker (2022)   \n",
       "\n",
       "                                        file_content  \n",
       "0  watch any video online with opensubtitles free...  \n",
       "1  ah theres princess dawn and terry with the 2 b...  \n",
       "2  yumis cells 2 2 episode 36 extremely polite yu...  \n",
       "3  watch any video online with opensubtitles free...  \n",
       "4  1 watch any video online with opensubtitles fr...  "
      ]
     },
     "execution_count": 4,
     "metadata": {},
     "output_type": "execute_result"
    }
   ],
   "source": [
    "df.head(5)"
   ]
  },
  {
   "cell_type": "code",
   "execution_count": 5,
   "id": "81a01452-72b1-450f-aa25-2754ae43a6ee",
   "metadata": {},
   "outputs": [],
   "source": [
    "from sentence_transformers import SentenceTransformer\n",
    "\n",
    "def generate_embeddings(texts):\n",
    "    model = SentenceTransformer('bert-base-nli-mean-tokens')\n",
    "    embeddings = []\n",
    "    for text_chunk in texts:\n",
    "        chunk_embeddings = model.encode(text_chunk)\n",
    "        embeddings.append(chunk_embeddings)\n",
    "    return embeddings\n",
    "\n",
    "def document_chunker(data, chunk_size=500, overlap_size=50):\n",
    "    chunks = []\n",
    "    start_idx = 0\n",
    "    while start_idx < len(data):\n",
    "        end_idx = min(start_idx + chunk_size, len(data))\n",
    "        chunk = ' '.join(data[start_idx:end_idx])\n",
    "        chunks.append(chunk)\n",
    "        start_idx += chunk_size - overlap_size\n",
    "    return chunks"
   ]
  },
  {
   "cell_type": "code",
   "execution_count": 6,
   "id": "b9a70b12-7307-44c5-9d5e-a5341f5ba7c8",
   "metadata": {},
   "outputs": [],
   "source": [
    "texts = df['file_content'].tolist()"
   ]
  },
  {
   "cell_type": "code",
   "execution_count": 7,
   "id": "8a589c9a-9074-4c5c-b31d-818398767b99",
   "metadata": {},
   "outputs": [],
   "source": [
    "chunked_texts = document_chunker(texts)"
   ]
  },
  {
   "cell_type": "code",
   "execution_count": 8,
   "id": "58740750-71c5-408f-b3ea-52a436a24169",
   "metadata": {},
   "outputs": [],
   "source": [
    "chunk_embeddings = generate_embeddings(chunked_texts)"
   ]
  },
  {
   "cell_type": "code",
   "execution_count": 9,
   "id": "d6d76351-bd70-48d8-9d10-712bfab236f7",
   "metadata": {},
   "outputs": [],
   "source": [
    "import chromadb"
   ]
  },
  {
   "cell_type": "code",
   "execution_count": 10,
   "id": "90086ca7-14d4-4d83-bc95-8b8c0cd5503e",
   "metadata": {},
   "outputs": [],
   "source": [
    "client = chromadb.PersistentClient(path=\"C:/search_engine/eng_subtitles\")"
   ]
  },
  {
   "cell_type": "code",
   "execution_count": 11,
   "id": "7c7370c5-a56b-4901-bc82-36a5dba0692d",
   "metadata": {},
   "outputs": [],
   "source": [
    "collection = client.get_or_create_collection(name=\"eng_subtitles\")"
   ]
  },
  {
   "cell_type": "code",
   "execution_count": 12,
   "id": "f346c664-2a08-49cf-a836-028e38a23eed",
   "metadata": {},
   "outputs": [
    {
     "name": "stdout",
     "output_type": "stream",
     "text": [
      "Insertion into ChromaDB collection complete\n"
     ]
    }
   ],
   "source": [
    "for index, row in df.iterrows():\n",
    "    document_id = str(row['index'])  # Use a unique identifier for each document\n",
    "    document_text = row['file_content']\n",
    "    # document_embedding = corpus_embeddings[index % len(corpus_embeddings)]  # Assuming embeddings are aligned with the rows\n",
    "\n",
    "    # ------------------------------------------------------------------------\n",
    "    chunk_index = index % len(chunk_embeddings)\n",
    "    document_embedding = chunk_embeddings[chunk_index]\n",
    "    #--------------------------------------------------------------------------\n",
    "    metadata = {'movie_name': row['name']}\n",
    "\n",
    "    # Insert document into ChromaDB collection\n",
    "    collection.add(ids=document_id, documents=[document_text], embeddings=[document_embedding.tolist()], metadatas=[metadata])\n",
    "\n",
    "\n",
    "print(\"Insertion into ChromaDB collection complete\")"
   ]
  },
  {
   "cell_type": "code",
   "execution_count": null,
   "id": "f788686c-77c0-4d3a-b0a5-9ecbdded4107",
   "metadata": {},
   "outputs": [],
   "source": []
  }
 ],
 "metadata": {
  "kernelspec": {
   "display_name": "Python 3 (ipykernel)",
   "language": "python",
   "name": "python3"
  },
  "language_info": {
   "codemirror_mode": {
    "name": "ipython",
    "version": 3
   },
   "file_extension": ".py",
   "mimetype": "text/x-python",
   "name": "python",
   "nbconvert_exporter": "python",
   "pygments_lexer": "ipython3",
   "version": "3.11.7"
  }
 },
 "nbformat": 4,
 "nbformat_minor": 5
}
